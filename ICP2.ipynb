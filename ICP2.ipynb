{
  "nbformat": 4,
  "nbformat_minor": 0,
  "metadata": {
    "colab": {
      "provenance": []
    },
    "kernelspec": {
      "name": "python3",
      "display_name": "Python 3"
    },
    "language_info": {
      "name": "python"
    }
  },
  "cells": [
    {
      "cell_type": "code",
      "execution_count": 30,
      "metadata": {
        "colab": {
          "base_uri": "https://localhost:8080/"
        },
        "id": "VbOgMdIFDgU3",
        "outputId": "866565f7-5ce1-410f-d0f6-161762db3125"
      },
      "outputs": [
        {
          "output_type": "stream",
          "name": "stdout",
          "text": [
            "Enter first name \n",
            "swiya chandana\n",
            "Enter last name \n",
            "challa\n",
            "full name :  swiya chandana challa\n",
            "alternate letters :  siacadn hla\n"
          ]
        }
      ],
      "source": [
        "# Q 1\n",
        "\n",
        "first_name = input(\"Enter first name \\n\")\n",
        "last_name = input(\"Enter last name \\n\")\n",
        "\n",
        "def string_alternative(name):\n",
        "    return (name[::2])               # [::2] returns alterante characters in the 'name' string\n",
        "\n",
        "def fullName(first_name, last_name):\n",
        "    name = first_name + \" \" + last_name     # concatinates first_name and last_name\n",
        "    print (\"full name : \", name)\n",
        "\n",
        "    sa = string_alternative(name)         # calls string_alternative function\n",
        "    print(\"alternate letters : \", sa)\n",
        "\n",
        "\n",
        "fullName(first_name, last_name)\n"
      ]
    },
    {
      "cell_type": "code",
      "source": [
        "# Q 2\n",
        "\n",
        "from collections import Counter\n",
        "\n",
        "# to read input file\n",
        "with open('/content/input.txt', 'r') as ipFile:\n",
        "    lines = ipFile.readlines()          # reading each line in the input file\n",
        "\n",
        "opLines = []\n",
        "\n",
        "listOfWords = []\n",
        "\n",
        "for line in lines:\n",
        "    opLines.append(line)              # adding each line in input file to output\n",
        "    line = line.strip()\n",
        "    listOfWords.extend(line.split(\" \"))         # add each word in the input file to list by spliting each line\n",
        "\n",
        "opLines.append(\"\\nWord_Count:\\n\")\n",
        "elementsCount = Counter(listOfWords)       # Counter counts the number of occurances of each word\n",
        "\n",
        "# to count occurance of each word\n",
        "for ele, count in elementsCount.items():\n",
        "  opLines.append(f\"{ele} : {count}\")           # adding each word and its count to output\n",
        "\n",
        "print(opLines)\n",
        "\n",
        "# to add content in output file\n",
        "with open('/content/output.txt', 'w') as opFile:\n",
        "    for line in opLines:\n",
        "        opFile.write(line + '\\n')\n",
        "\n",
        "#closing input and output files\n",
        "ipFile.close()\n",
        "opFile.close()"
      ],
      "metadata": {
        "colab": {
          "base_uri": "https://localhost:8080/"
        },
        "id": "1e7AvuwXErX6",
        "outputId": "7c22b51c-e614-46ce-a001-a289b6141093"
      },
      "execution_count": 31,
      "outputs": [
        {
          "output_type": "stream",
          "name": "stdout",
          "text": [
            "['python course\\n', 'deep learning course\\n', 'neural network deep learning', '\\nWord_Count:\\n', 'python : 1', 'course : 2', 'deep : 2', 'learning : 2', 'neural : 1', 'network : 1']\n"
          ]
        }
      ]
    },
    {
      "cell_type": "code",
      "source": [
        "# Q 3\n",
        "\n",
        "inches = list(map(int, input(\"L1: \").split(\" \")))     #takes input from user\n",
        "\n",
        "cmList = []\n",
        "cm_comprehensions = []\n",
        "\n",
        "# Nested Interactive loop method\n",
        "for each in inches :\n",
        "    cm  = 2.54 * each\n",
        "    cmList.append(cm)\n",
        "\n",
        "print (\"Height in cm - Nested Interactive loop method \\n\", cmList)\n",
        "\n",
        "# List Comprehension method\n",
        "cm_comprehensions = [(height * 2.54) for height in inches]\n",
        "\n",
        "print (\"Height in cm - List Comprehension method \\n\", cm_comprehensions)"
      ],
      "metadata": {
        "colab": {
          "base_uri": "https://localhost:8080/"
        },
        "id": "SGGK8u-NMc_h",
        "outputId": "c38992a7-4f26-4d1d-d575-e3331a14391b"
      },
      "execution_count": 32,
      "outputs": [
        {
          "output_type": "stream",
          "name": "stdout",
          "text": [
            "L1: 150 155 145 148\n",
            "Height in cm - Nested Interactive loop method \n",
            " [381.0, 393.7, 368.3, 375.92]\n",
            "Height in cm - List Comprehension method \n",
            " [381.0, 393.7, 368.3, 375.92]\n"
          ]
        }
      ]
    }
  ]
}