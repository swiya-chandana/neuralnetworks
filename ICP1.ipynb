{
  "nbformat": 4,
  "nbformat_minor": 0,
  "metadata": {
    "colab": {
      "provenance": []
    },
    "kernelspec": {
      "name": "python3",
      "display_name": "Python 3"
    },
    "language_info": {
      "name": "python"
    }
  },
  "cells": [
    {
      "cell_type": "code",
      "execution_count": 4,
      "metadata": {
        "colab": {
          "base_uri": "https://localhost:8080/"
        },
        "id": "wQLmhoKsbe6f",
        "outputId": "18cc27a0-39e7-4fe1-895d-4ed5fa8cccf4"
      },
      "outputs": [
        {
          "output_type": "stream",
          "name": "stdout",
          "text": [
            "enter a word \n",
            "python\n",
            "htyp\n"
          ]
        }
      ],
      "source": [
        "# Q1.A\n",
        "\n",
        "inputString = input(\"enter a word \\n\")\n",
        "outputString = (inputString[:-2])[::-1]    # ([:-2] - to remove last 2 characters of string ) ([::-1] - to reverse a string )\n",
        "print (outputString)\n",
        ""
      ]
    },
    {
      "cell_type": "code",
      "source": [
        "# Q1.B\n",
        "\n",
        "a = int(input(\"enter 1st number \\n\"))\n",
        "b = int(input(\"enter 2nd number \\n\"))\n",
        "print (\"sum : \", a+b)\n",
        "print (\"difference : \", a-b)\n",
        "print (\"multiply : \", a*b)\n",
        "print (\"number1 power number2 : \", a ** b)\n",
        ""
      ],
      "metadata": {
        "colab": {
          "base_uri": "https://localhost:8080/"
        },
        "id": "L1CtqE5ybj-d",
        "outputId": "bad54d67-21e5-47f2-d43d-56fe7a73b656"
      },
      "execution_count": 5,
      "outputs": [
        {
          "output_type": "stream",
          "name": "stdout",
          "text": [
            "enter 1st number \n",
            "2\n",
            "enter 2nd number \n",
            "3\n",
            "sum :  5\n",
            "difference :  -1\n",
            "multiply :  6\n",
            "number1 power number2 :  8\n"
          ]
        }
      ]
    },
    {
      "cell_type": "code",
      "source": [
        "# Q2\n",
        "\n",
        "ipString = str(input(\"enter a sentence \\n\"))\n",
        "opString = ipString.replace(\"python\", \"pythons\")\n",
        "print (opString)"
      ],
      "metadata": {
        "colab": {
          "base_uri": "https://localhost:8080/"
        },
        "id": "CgT91e8gcS8h",
        "outputId": "9911514c-79fa-4642-9f34-2f134e97765f"
      },
      "execution_count": 6,
      "outputs": [
        {
          "output_type": "stream",
          "name": "stdout",
          "text": [
            "enter a sentence \n",
            "i love playing with python python\n",
            "i love playing with pythons pythons\n"
          ]
        }
      ]
    },
    {
      "cell_type": "code",
      "source": [
        "# Q3\n",
        "\n",
        "def calculate_grade(classscore):\n",
        "    if classscore >= 90:\n",
        "        return 'A'\n",
        "    elif classscore >= 80:\n",
        "        return 'B'\n",
        "    elif classscore >= 70:\n",
        "        return 'C'\n",
        "    elif classscore >= 60:\n",
        "        return 'D'\n",
        "    else:\n",
        "        return 'F'\n",
        "\n",
        "classscore = float(input(\"Enter the class score: \"))\n",
        "grade = calculate_grade(classscore)\n",
        "print(\"The letter grade for score {:.2f} is: {}\".format(classscore, grade))"
      ],
      "metadata": {
        "colab": {
          "base_uri": "https://localhost:8080/"
        },
        "id": "mKk99klXcwtZ",
        "outputId": "bfd0527d-f1a7-42a4-ee1e-c189cd84e654"
      },
      "execution_count": 9,
      "outputs": [
        {
          "output_type": "stream",
          "name": "stdout",
          "text": [
            "Enter the class score: 56.7\n",
            "The letter grade for score 56.70 is: F\n"
          ]
        }
      ]
    }
  ]
}